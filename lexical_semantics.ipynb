{
 "metadata": {
  "language_info": {
   "codemirror_mode": {
    "name": "ipython",
    "version": 3
   },
   "file_extension": ".py",
   "mimetype": "text/x-python",
   "name": "python",
   "nbconvert_exporter": "python",
   "pygments_lexer": "ipython3",
   "version": "3.6.12-final"
  },
  "orig_nbformat": 2,
  "kernelspec": {
   "name": "python3",
   "display_name": "Python 3.6.12 64-bit ('tora': conda)",
   "metadata": {
    "interpreter": {
     "hash": "94d8f3d174e65e48f1a5525808dadd7487dea75e246905fc1f2358aeec59b2cc"
    }
   }
  }
 },
 "nbformat": 4,
 "nbformat_minor": 2,
 "cells": [
  {
   "cell_type": "code",
   "execution_count": 1,
   "metadata": {},
   "outputs": [
    {
     "output_type": "execute_result",
     "data": {
      "text/plain": [
       "<torch._C.Generator at 0x7faba4a01f10>"
      ]
     },
     "metadata": {},
     "execution_count": 1
    }
   ],
   "source": [
    "import torch\n",
    "import torch.nn as nn\n",
    "import torch.optim as optim\n",
    "import torch.nn.functional as F\n",
    "\n",
    "torch.manual_seed(1)"
   ]
  },
  {
   "cell_type": "code",
   "execution_count": 2,
   "metadata": {},
   "outputs": [],
   "source": [
    "word_to_idx = {\"hello\":0, \"world\": 1}\n",
    "embeds = nn.Embedding(2,5)\n",
    "lookup_tensor = torch.tensor([word_to_idx[\"hello\"]], dtype=torch.long)\n",
    "hello_embeds = embeds(lookup_tensor)"
   ]
  },
  {
   "source": [
    "hello_embeds"
   ],
   "cell_type": "code",
   "metadata": {},
   "execution_count": 3,
   "outputs": [
    {
     "output_type": "execute_result",
     "data": {
      "text/plain": [
       "tensor([[ 0.6614,  0.2669,  0.0617,  0.6213, -0.4519]],\n",
       "       grad_fn=<EmbeddingBackward>)"
      ]
     },
     "metadata": {},
     "execution_count": 3
    }
   ]
  },
  {
   "cell_type": "code",
   "execution_count": 4,
   "metadata": {},
   "outputs": [],
   "source": [
    "CONTEXT_SIZE = 2    #because of trigram dataset\n",
    "EMBEDDING_DIM = 10\n",
    "\n",
    "# We will use Shakespeare Sonnet 2\n",
    "test_sentence = \"\"\"When forty winters shall besiege thy brow,\n",
    "And dig deep trenches in thy beauty's field,\n",
    "Thy youth's proud livery so gazed on now,\n",
    "Will be a totter'd weed of small worth held:\n",
    "Then being asked, where all thy beauty lies,\n",
    "Where all the treasure of thy lusty days;\n",
    "To say, within thine own deep sunken eyes,\n",
    "Were an all-eating shame, and thriftless praise.\n",
    "How much more praise deserv'd thy beauty's use,\n",
    "If thou couldst answer 'This fair child of mine\n",
    "Shall sum my count, and make my old excuse,'\n",
    "Proving his beauty by succession thine!\n",
    "This were to be new made when thou art old,\n",
    "And see thy blood warm when thou feel'st it cold.\"\"\".split()"
   ]
  },
  {
   "cell_type": "code",
   "execution_count": 5,
   "metadata": {},
   "outputs": [],
   "source": [
    "trigrams=[([test_sentence[i], test_sentence[i+1]], test_sentence[i+2]) for i in range(len(test_sentence)-2)]"
   ]
  },
  {
   "cell_type": "code",
   "execution_count": 6,
   "metadata": {},
   "outputs": [],
   "source": [
    "from pprint import pprint"
   ]
  },
  {
   "cell_type": "code",
   "execution_count": 7,
   "metadata": {},
   "outputs": [],
   "source": [
    "vocab = set(test_sentence)\n",
    "word_to_idx = {word:idx for idx,word in enumerate(vocab)}\n"
   ]
  },
  {
   "cell_type": "code",
   "execution_count": 8,
   "metadata": {},
   "outputs": [
    {
     "output_type": "stream",
     "name": "stdout",
     "text": [
      "[('be', 0),\n ('shame,', 1),\n ('cold.', 2),\n ('eyes,', 3),\n ('art', 4),\n (\"excuse,'\", 5),\n ('all', 6),\n ('Then', 7),\n ('child', 8),\n ('a', 9),\n ('fair', 10),\n ('were', 11),\n ('warm', 12),\n ('it', 13),\n ('all-eating', 14),\n ('How', 15),\n ('small', 16),\n ('praise.', 17),\n ('gazed', 18),\n ('days;', 19),\n ('thriftless', 20),\n ('within', 21),\n ('brow,', 22),\n ('so', 23),\n ('treasure', 24),\n ('make', 25),\n ('field,', 26),\n ('Shall', 27),\n ('to', 28),\n ('proud', 29),\n ('held:', 30),\n ('shall', 31),\n (\"totter'd\", 32),\n ('old', 33),\n ('lies,', 34),\n ('mine', 35),\n ('lusty', 36),\n (\"feel'st\", 37),\n ('beauty', 38),\n ('weed', 39),\n ('answer', 40),\n ('new', 41),\n ('succession', 42),\n ('my', 43),\n ('made', 44),\n ('thine', 45),\n ('couldst', 46),\n ('being', 47),\n ('and', 48),\n (\"deserv'd\", 49),\n ('praise', 50),\n ('And', 51),\n ('sum', 52),\n ('more', 53),\n ('the', 54),\n ('dig', 55),\n ('If', 56),\n ('his', 57),\n ('thou', 58),\n ('on', 59),\n ('forty', 60),\n ('besiege', 61),\n ('by', 62),\n ('To', 63),\n ('when', 64),\n ('sunken', 65),\n ('thy', 66),\n ('deep', 67),\n (\"youth's\", 68),\n ('much', 69),\n ('asked,', 70),\n ('an', 71),\n ('livery', 72),\n ('see', 73),\n ('worth', 74),\n ('This', 75),\n ('blood', 76),\n ('say,', 77),\n ('Proving', 78),\n (\"'This\", 79),\n ('of', 80),\n ('old,', 81),\n (\"beauty's\", 82),\n ('count,', 83),\n ('thine!', 84),\n ('own', 85),\n ('trenches', 86),\n ('When', 87),\n ('use,', 88),\n ('Will', 89),\n ('Thy', 90),\n ('winters', 91),\n ('Where', 92),\n ('now,', 93),\n ('Were', 94),\n ('in', 95),\n ('where', 96)]\n"
     ]
    }
   ],
   "source": [
    "pprint(sorted(word_to_idx.items(), key = lambda x: x[1]))"
   ]
  },
  {
   "cell_type": "code",
   "execution_count": 9,
   "metadata": {},
   "outputs": [],
   "source": [
    "class NGramlanguageModular(nn.Module):\n",
    "    def __init__(self, vocab_size, embedding_dim, context_size):\n",
    "        super(NGramlanguageModular,self).__init__()\n",
    "        self.embeddings = nn.Embedding(vocab_size, embedding_dim) # making lookup-table with word embedding\n",
    "        self.linear1 = nn.Linear(context_size*embedding_dim, 128) \n",
    "        self.linear2 = nn.Linear(128, vocab_size)\n",
    "\n",
    "\n",
    "    def forward(self, inputs):\n",
    "        embeds = self.embeddings(inputs).view((1,-1)) #passing row vector of input data points\n",
    "        out = F.relu(self.linear1(embeds))\n",
    "        out = self.linear2(out)\n",
    "        log_probs = F.log_softmax(out,1)\n",
    "        return(log_probs)\n",
    "\n"
   ]
  },
  {
   "cell_type": "code",
   "execution_count": 10,
   "metadata": {},
   "outputs": [],
   "source": [
    "losses = []\n",
    "loss_function = nn.NLLLoss() #negative log likelihood\n",
    "\n",
    "model = NGramlanguageModular(len(vocab), EMBEDDING_DIM, CONTEXT_SIZE)\n",
    "optimizer = optim.SGD(model.parameters(), lr=0.001)\n"
   ]
  },
  {
   "cell_type": "code",
   "execution_count": 11,
   "metadata": {
    "tags": []
   },
   "outputs": [
    {
     "output_type": "stream",
     "name": "stdout",
     "text": [
      "('Losses: '\n '[521.4588832855225, '\n '518.9084067344666, '\n '516.3773002624512, '\n '513.8643174171448, '\n '511.3696217536926, '\n '508.8914120197296, '\n '506.4289002418518, '\n '503.9818139076233, '\n '501.5498299598694, '\n '499.1313314437866]')\n"
     ]
    }
   ],
   "source": [
    "#training routine\n",
    "\n",
    "for epoch in range(10):\n",
    "    total_loss = 0\n",
    "    for context, target in trigrams:\n",
    "        \n",
    "        model.zero_grad() #clearing leftover grads\n",
    "        context_idxs = torch.tensor([word_to_idx[w] for w in context], dtype = torch.long) #making input row of vector with 2d context\n",
    "        \n",
    "        log_probs = model(context_idxs)\n",
    "        loss = loss_function(log_probs, torch.tensor([word_to_idx[target]]))\n",
    "        loss.backward()\n",
    "        optimizer.step()\n",
    "\n",
    "        total_loss +=loss.item()\n",
    "    losses.append(total_loss)\n",
    "pprint(f'Losses: {losses}', indent=4, width=4)"
   ]
  },
  {
   "cell_type": "code",
   "execution_count": 12,
   "metadata": {},
   "outputs": [
    {
     "output_type": "stream",
     "name": "stdout",
     "text": [
      "(['We', 'are', 'to', 'study'], 'about')\n"
     ]
    }
   ],
   "source": [
    "#practice exercise\n",
    "EMBEDDING_DIM = 10\n",
    "CONTEXT_SIZE = 2  # 2 words to the left, 2 to the right\n",
    "raw_text = \"\"\"We are about to study the idea of a computational process.\n",
    "Computational processes are abstract beings that inhabit computers.\n",
    "As they evolve, processes manipulate other abstract things called data.\n",
    "The evolution of a process is directed by a pattern of rules\n",
    "called a program. People create programs to direct processes. In effect,\n",
    "we conjure the spirits of the computer with our spells.\"\"\".split()\n",
    "\n",
    "# By deriving a set from `raw_text`, we deduplicate the array\n",
    "vocab = set(raw_text)\n",
    "vocab_size = len(vocab)\n",
    "\n",
    "word_to_ix = {word: i for i, word in enumerate(vocab)}\n",
    "data = []\n",
    "for i in range(2, len(raw_text) - 2):\n",
    "    context = [raw_text[i - 2], raw_text[i - 1],\n",
    "               raw_text[i + 1], raw_text[i + 2]]\n",
    "    target = raw_text[i]\n",
    "    data.append((context, target))\n",
    "\n",
    "print(data[0])\n",
    "\n"
   ]
  },
  {
   "cell_type": "code",
   "execution_count": 13,
   "metadata": {},
   "outputs": [],
   "source": [
    "#model class\n",
    "class CBOW(nn.Module):\n",
    "\n",
    "    def __init__(self, vocab_size, embedding_dim, context_dim):\n",
    "        super(CBOW,self).__init__()\n",
    "        self.embed_layer = nn.Embedding(vocab_size, embedding_dim)\n",
    "        self.linear1 =  nn.Linear(2*context_dim*embedding_dim, 128) #include 2 for double sided context here\n",
    "        self.linear2 =  nn.Linear(128, vocab_size)\n",
    "\n",
    "    def forward(self, inputs):\n",
    "        embeds = self.embed_layer(inputs).view((1,-1))\n",
    "        out = F.relu(self.linear1(embeds))\n",
    "        out = self.linear2(out)\n",
    "        log_probs = F.log_softmax(out,1)\n",
    "        return log_probs\n",
    "\n",
    "\n"
   ]
  },
  {
   "cell_type": "code",
   "execution_count": 14,
   "metadata": {},
   "outputs": [],
   "source": [
    "#helper function\n",
    "\n",
    "def make_context_vector(context, word_to_ix):\n",
    "    idxs = [word_to_ix[w] for w in context]\n",
    "    return torch.tensor(idxs, dtype=torch.long)\n"
   ]
  },
  {
   "cell_type": "code",
   "execution_count": 15,
   "metadata": {},
   "outputs": [],
   "source": [
    "loss_function = nn.NLLLoss()\n",
    "model = CBOW(vocab_size, EMBEDDING_DIM, CONTEXT_SIZE)\n",
    "optimizer = optim.SGD(model.parameters(),lr=0.001)"
   ]
  },
  {
   "cell_type": "code",
   "execution_count": 16,
   "metadata": {
    "tags": []
   },
   "outputs": [
    {
     "output_type": "stream",
     "name": "stdout",
     "text": [
      "('final_losses: '\n '[226.61858677864075, '\n '225.16838121414185, '\n '223.72908401489258, '\n '222.29899215698242, '\n '220.8776319026947, '\n '219.46639919281006, '\n '218.06447553634644, '\n '216.66943383216858, '\n '215.28110694885254, '\n '213.8991014957428]')\n"
     ]
    }
   ],
   "source": [
    "final_losses =[]\n",
    "for epoch in range(10):\n",
    "    total_loss = 0\n",
    "    for context, target in data:\n",
    "\n",
    "        model.zero_grad()\n",
    "     \n",
    "        log_probs = model(make_context_vector(context,word_to_ix))\n",
    "        target_vector = torch.tensor([word_to_ix[target]],dtype=torch.long)\n",
    "        loss = loss_function(log_probs,target_vector)\n",
    "        loss.backward()\n",
    "        optimizer.step()\n",
    "        total_loss+=loss.item()\n",
    "    final_losses.append(total_loss)\n",
    "\n",
    "pprint(f'final_losses: {final_losses}', indent=2, width=2)"
   ]
  },
  {
   "cell_type": "code",
   "execution_count": null,
   "metadata": {},
   "outputs": [],
   "source": []
  },
  {
   "cell_type": "code",
   "execution_count": null,
   "metadata": {},
   "outputs": [],
   "source": []
  }
 ]
}